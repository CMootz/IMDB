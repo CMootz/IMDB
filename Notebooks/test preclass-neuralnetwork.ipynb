{
 "cells": [
  {
   "cell_type": "code",
   "execution_count": 1,
   "metadata": {},
   "outputs": [],
   "source": [
    "%reload_ext autoreload\n",
    "%autoreload 2\n",
    "\n",
    "from collections import Counter\n",
    "import numpy as np\n",
    "import pandas as pd\n",
    "from app import Preprocessing\n",
    "\n",
    "from matplotlib import pyplot as plt\n",
    "import torch\n",
    "import torch.nn as nn\n",
    "\n",
    "dtype = torch.float\n",
    "device = torch.device(\"cpu\")\n",
    "# device = torch.device(\"cuda:0\") # Uncomment this to run on GPU\n",
    "\n",
    "%load_ext Cython"
   ]
  },
  {
   "cell_type": "code",
   "execution_count": 118,
   "metadata": {},
   "outputs": [],
   "source": [
    "pre = Preprocessing('IMDB')"
   ]
  },
  {
   "cell_type": "code",
   "execution_count": 119,
   "metadata": {},
   "outputs": [
    {
     "data": {
      "text/html": [
       "<div>\n",
       "<style scoped>\n",
       "    .dataframe tbody tr th:only-of-type {\n",
       "        vertical-align: middle;\n",
       "    }\n",
       "\n",
       "    .dataframe tbody tr th {\n",
       "        vertical-align: top;\n",
       "    }\n",
       "\n",
       "    .dataframe thead th {\n",
       "        text-align: right;\n",
       "    }\n",
       "</style>\n",
       "<table border=\"1\" class=\"dataframe\">\n",
       "  <thead>\n",
       "    <tr style=\"text-align: right;\">\n",
       "      <th></th>\n",
       "      <th>text</th>\n",
       "      <th>POS__NEG</th>\n",
       "    </tr>\n",
       "  </thead>\n",
       "  <tbody>\n",
       "    <tr>\n",
       "      <th>0</th>\n",
       "      <td>WOW this movie was so horrible Im so glad i di...</td>\n",
       "      <td>0</td>\n",
       "    </tr>\n",
       "    <tr>\n",
       "      <th>1</th>\n",
       "      <td>I for one really like this movie for some reas...</td>\n",
       "      <td>1</td>\n",
       "    </tr>\n",
       "    <tr>\n",
       "      <th>2</th>\n",
       "      <td>What an amazing film With very little dialogue...</td>\n",
       "      <td>1</td>\n",
       "    </tr>\n",
       "    <tr>\n",
       "      <th>3</th>\n",
       "      <td>ANDY HARDY MEETS DEBUTANTE 1940 is the ninth 9...</td>\n",
       "      <td>0</td>\n",
       "    </tr>\n",
       "    <tr>\n",
       "      <th>4</th>\n",
       "      <td>wonderful movie with good story great humour s...</td>\n",
       "      <td>1</td>\n",
       "    </tr>\n",
       "  </tbody>\n",
       "</table>\n",
       "</div>"
      ],
      "text/plain": [
       "                                                text  POS__NEG\n",
       "0  WOW this movie was so horrible Im so glad i di...         0\n",
       "1  I for one really like this movie for some reas...         1\n",
       "2  What an amazing film With very little dialogue...         1\n",
       "3  ANDY HARDY MEETS DEBUTANTE 1940 is the ninth 9...         0\n",
       "4  wonderful movie with good story great humour s...         1"
      ]
     },
     "execution_count": 119,
     "metadata": {},
     "output_type": "execute_result"
    }
   ],
   "source": [
    "pre.data['train_raw'].head()"
   ]
  },
  {
   "cell_type": "code",
   "execution_count": 120,
   "metadata": {},
   "outputs": [
    {
     "data": {
      "text/plain": [
       "11098"
      ]
     },
     "execution_count": 120,
     "metadata": {},
     "output_type": "execute_result"
    }
   ],
   "source": [
    "len(list(pre.dict))"
   ]
  },
  {
   "cell_type": "code",
   "execution_count": 121,
   "metadata": {},
   "outputs": [],
   "source": [
    "hans = pre.build_df('train_raw','train',pre.dict)"
   ]
  },
  {
   "cell_type": "code",
   "execution_count": 122,
   "metadata": {},
   "outputs": [
    {
     "data": {
      "text/html": [
       "<div>\n",
       "<style scoped>\n",
       "    .dataframe tbody tr th:only-of-type {\n",
       "        vertical-align: middle;\n",
       "    }\n",
       "\n",
       "    .dataframe tbody tr th {\n",
       "        vertical-align: top;\n",
       "    }\n",
       "\n",
       "    .dataframe thead th {\n",
       "        text-align: right;\n",
       "    }\n",
       "</style>\n",
       "<table border=\"1\" class=\"dataframe\">\n",
       "  <thead>\n",
       "    <tr style=\"text-align: right;\">\n",
       "      <th></th>\n",
       "      <th>and the story</th>\n",
       "      <th>a sad</th>\n",
       "      <th>surrounded by</th>\n",
       "      <th>The cinematography</th>\n",
       "      <th>it it</th>\n",
       "      <th>are in the</th>\n",
       "      <th>on any</th>\n",
       "      <th>home to</th>\n",
       "      <th>like me</th>\n",
       "      <th>Quite</th>\n",
       "      <th>...</th>\n",
       "      <th>of the</th>\n",
       "      <th>is</th>\n",
       "      <th>a</th>\n",
       "      <th>of</th>\n",
       "      <th>to</th>\n",
       "      <th>and</th>\n",
       "      <th>the</th>\n",
       "      <th></th>\n",
       "      <th></th>\n",
       "      <th></th>\n",
       "    </tr>\n",
       "  </thead>\n",
       "  <tbody>\n",
       "    <tr>\n",
       "      <th>max</th>\n",
       "      <td>1.0</td>\n",
       "      <td>1.0</td>\n",
       "      <td>1.0</td>\n",
       "      <td>1.0</td>\n",
       "      <td>1.0</td>\n",
       "      <td>1.0</td>\n",
       "      <td>1.0</td>\n",
       "      <td>1.0</td>\n",
       "      <td>1.0</td>\n",
       "      <td>1.0</td>\n",
       "      <td>...</td>\n",
       "      <td>50.0</td>\n",
       "      <td>68.0</td>\n",
       "      <td>70.0</td>\n",
       "      <td>80.0</td>\n",
       "      <td>85.0</td>\n",
       "      <td>98.0</td>\n",
       "      <td>176.0</td>\n",
       "      <td>277.0</td>\n",
       "      <td>279.0</td>\n",
       "      <td>281.0</td>\n",
       "    </tr>\n",
       "  </tbody>\n",
       "</table>\n",
       "<p>1 rows × 11098 columns</p>\n",
       "</div>"
      ],
      "text/plain": [
       "     and the story  a sad  surrounded by  The cinematography  it it  \\\n",
       "max            1.0    1.0            1.0                 1.0    1.0   \n",
       "\n",
       "     are in the  on any  home to  like me  Quite  ...  of the    is     a  \\\n",
       "max         1.0     1.0      1.0      1.0    1.0  ...    50.0  68.0  70.0   \n",
       "\n",
       "       of    to   and    the                       \n",
       "max  80.0  85.0  98.0  176.0  277.0  279.0  281.0  \n",
       "\n",
       "[1 rows x 11098 columns]"
      ]
     },
     "execution_count": 122,
     "metadata": {},
     "output_type": "execute_result"
    }
   ],
   "source": [
    "pre.data['train'].describe().loc[['max'], :].sort_values(by=['max'],axis=1)"
   ]
  },
  {
   "cell_type": "code",
   "execution_count": 124,
   "metadata": {},
   "outputs": [],
   "source": [
    "hans = pre.build_df('test_raw','test',pre.dict)"
   ]
  },
  {
   "cell_type": "code",
   "execution_count": 310,
   "metadata": {},
   "outputs": [],
   "source": [
    "x_test = torch.tensor(pre.data['test'].values).float()\n",
    "y_test = torch.tensor(pre.get('test_raw')['POS__NEG'].values).long()"
   ]
  },
  {
   "cell_type": "code",
   "execution_count": 314,
   "metadata": {},
   "outputs": [],
   "source": [
    "x = torch.tensor(pre.data['train'][:3000].values).float()\n",
    "y = torch.tensor(pre.get('train_raw')['POS__NEG'][:3000].values).long()"
   ]
  },
  {
   "cell_type": "code",
   "execution_count": 315,
   "metadata": {},
   "outputs": [
    {
     "data": {
      "text/plain": [
       "tensor([[ 3.,  4.,  4.,  ...,  0.,  0.,  0.],\n",
       "        [18., 18., 12.,  ...,  0.,  0.,  0.],\n",
       "        [ 1.,  1.,  2.,  ...,  0.,  0.,  0.],\n",
       "        ...,\n",
       "        [32., 11., 16.,  ...,  0.,  0.,  0.],\n",
       "        [24., 17., 18.,  ...,  0.,  0.,  0.],\n",
       "        [14.,  7.,  3.,  ...,  0.,  0.,  0.]])"
      ]
     },
     "execution_count": 315,
     "metadata": {},
     "output_type": "execute_result"
    }
   ],
   "source": [
    "x"
   ]
  },
  {
   "cell_type": "code",
   "execution_count": 316,
   "metadata": {},
   "outputs": [],
   "source": [
    "# Logistic regression model\n",
    "H1 = int(2000)\n",
    "H2 = int(1000)\n",
    "H3 = int(500)\n",
    "H4 = int(400)\n",
    "H5 = int(300)\n",
    "H6 = int(200)\n",
    "\n",
    "model = torch.nn.Sequential(\n",
    "    torch.nn.Linear(x.shape[1], H1),\n",
    "    torch.nn.ReLU(),\n",
    "    torch.nn.Linear(H1, H2),\n",
    "    torch.nn.ReLU(),\n",
    "    torch.nn.Linear(H2, H3),\n",
    "    torch.nn.ReLU(),\n",
    "#    torch.nn.Linear(H3, H4),\n",
    "#    torch.nn.ReLU(),\n",
    "#    torch.nn.Linear(H4, H5),\n",
    "#    torch.nn.ReLU(),\n",
    "    torch.nn.Linear(H3, 2)\n",
    ")"
   ]
  },
  {
   "cell_type": "code",
   "execution_count": 317,
   "metadata": {},
   "outputs": [],
   "source": [
    "# Hyper-parameters \n",
    "learning_rate = 0.0001"
   ]
  },
  {
   "cell_type": "code",
   "execution_count": 318,
   "metadata": {},
   "outputs": [],
   "source": [
    "# Loss and optimizer\n",
    "# nn.CrossEntropyLoss() computes softmax internally\n",
    "\n",
    "criterion = nn.CrossEntropyLoss() #nn.MSELoss()\n",
    "optimizer = torch.optim.Adam(model.parameters(), lr=learning_rate)"
   ]
  },
  {
   "cell_type": "code",
   "execution_count": null,
   "metadata": {},
   "outputs": [
    {
     "name": "stdout",
     "output_type": "stream",
     "text": [
      "0 0.6933587789535522\n",
      "20 0.12852512300014496\n",
      "40 0.0011196943232789636\n",
      "60 0.00025087277754209936\n"
     ]
    }
   ],
   "source": [
    "loss_hist = []\n",
    "# Train\n",
    "for t in range(100):\n",
    "    # Berechne die Vorhersage (foward step)\n",
    "    outputs = model(x)\n",
    "    \n",
    "    # Berechne den Fehler (Ausgabe des Fehlers alle 50 Iterationen)\n",
    "    loss = criterion(outputs, y)\n",
    "    \n",
    "    # Berechne die Gradienten und Aktualisiere die Gewichte (backward step)\n",
    "    optimizer.zero_grad()\n",
    "    loss.backward()\n",
    "    optimizer.step()\n",
    "    \n",
    "    # Berechne den Fehler (Ausgabe des Fehlers alle 100 Iterationen)\n",
    "    if t % 20 == 0:\n",
    "        loss_hist.append(loss.item())\n",
    "        print(t, loss.item())"
   ]
  },
  {
   "cell_type": "code",
   "execution_count": null,
   "metadata": {},
   "outputs": [],
   "source": [
    "plt.plot(loss_hist);"
   ]
  },
  {
   "cell_type": "code",
   "execution_count": null,
   "metadata": {},
   "outputs": [],
   "source": [
    "outputs_test = model(x_test)\n",
    "#loss = criterion(outputs_test, y_test)\n",
    "#loss"
   ]
  },
  {
   "cell_type": "code",
   "execution_count": null,
   "metadata": {},
   "outputs": [],
   "source": [
    "y_test_pred_sm = outputs_test.argmax(1)"
   ]
  },
  {
   "cell_type": "code",
   "execution_count": null,
   "metadata": {},
   "outputs": [],
   "source": [
    "# Klassifikationsgenauigkeit\n",
    "classification_accuracy_test =(y_test.float() == y_test_pred_sm.float()).float().mean()\n",
    "classification_accuracy_test"
   ]
  },
  {
   "cell_type": "code",
   "execution_count": null,
   "metadata": {},
   "outputs": [],
   "source": []
  }
 ],
 "metadata": {
  "kernelspec": {
   "display_name": "Python 3",
   "language": "python",
   "name": "python3"
  },
  "language_info": {
   "codemirror_mode": {
    "name": "ipython",
    "version": 3
   },
   "file_extension": ".py",
   "mimetype": "text/x-python",
   "name": "python",
   "nbconvert_exporter": "python",
   "pygments_lexer": "ipython3",
   "version": "3.6.8"
  }
 },
 "nbformat": 4,
 "nbformat_minor": 2
}
