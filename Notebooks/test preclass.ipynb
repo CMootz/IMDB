{
 "cells": [
  {
   "cell_type": "code",
   "execution_count": 303,
   "metadata": {},
   "outputs": [],
   "source": [
    "%reload_ext autoreload\n",
    "%autoreload 2\n",
    "\n",
    "from collections import Counter\n",
    "import numpy as np\n",
    "import pandas as pd\n",
    "from app import Preprocessing\n",
    "\n",
    "from matplotlib import pyplot as plt\n",
    "import torch\n",
    "import torch.nn as nn\n",
    "\n",
    "dtype = torch.float\n",
    "device = torch.device(\"cpu\")\n",
    "\n",
    "%load_ext Cython"
   ]
  },
  {
   "cell_type": "code",
   "execution_count": 152,
   "metadata": {},
   "outputs": [],
   "source": [
    "pre = Preprocessing('IMDB')"
   ]
  },
  {
   "cell_type": "code",
   "execution_count": 184,
   "metadata": {},
   "outputs": [],
   "source": [
    "pre.load_data(name='IMDB')"
   ]
  },
  {
   "cell_type": "code",
   "execution_count": 185,
   "metadata": {},
   "outputs": [
    {
     "data": {
      "text/html": [
       "<div>\n",
       "<style scoped>\n",
       "    .dataframe tbody tr th:only-of-type {\n",
       "        vertical-align: middle;\n",
       "    }\n",
       "\n",
       "    .dataframe tbody tr th {\n",
       "        vertical-align: top;\n",
       "    }\n",
       "\n",
       "    .dataframe thead th {\n",
       "        text-align: right;\n",
       "    }\n",
       "</style>\n",
       "<table border=\"1\" class=\"dataframe\">\n",
       "  <thead>\n",
       "    <tr style=\"text-align: right;\">\n",
       "      <th></th>\n",
       "      <th>text</th>\n",
       "      <th>filename</th>\n",
       "      <th>POS__NEG</th>\n",
       "    </tr>\n",
       "  </thead>\n",
       "  <tbody>\n",
       "    <tr>\n",
       "      <th>0</th>\n",
       "      <td>I did not expect much from this film, but boy-...</td>\n",
       "      <td>3703_3.txt</td>\n",
       "      <td>0</td>\n",
       "    </tr>\n",
       "    <tr>\n",
       "      <th>1</th>\n",
       "      <td>First off there is nothing wrong with studying...</td>\n",
       "      <td>3730_2.txt</td>\n",
       "      <td>0</td>\n",
       "    </tr>\n",
       "    <tr>\n",
       "      <th>2</th>\n",
       "      <td>Whenever a Columbo story deviates from the fam...</td>\n",
       "      <td>766_4.txt</td>\n",
       "      <td>0</td>\n",
       "    </tr>\n",
       "    <tr>\n",
       "      <th>3</th>\n",
       "      <td>This movie rivals \"Plan 9\" as one of the dumbe...</td>\n",
       "      <td>7249_1.txt</td>\n",
       "      <td>0</td>\n",
       "    </tr>\n",
       "    <tr>\n",
       "      <th>4</th>\n",
       "      <td>Worst movie I have seen since Gingerale Aftern...</td>\n",
       "      <td>10889_1.txt</td>\n",
       "      <td>0</td>\n",
       "    </tr>\n",
       "  </tbody>\n",
       "</table>\n",
       "</div>"
      ],
      "text/plain": [
       "                                                text     filename  POS__NEG\n",
       "0  I did not expect much from this film, but boy-...   3703_3.txt         0\n",
       "1  First off there is nothing wrong with studying...   3730_2.txt         0\n",
       "2  Whenever a Columbo story deviates from the fam...    766_4.txt         0\n",
       "3  This movie rivals \"Plan 9\" as one of the dumbe...   7249_1.txt         0\n",
       "4  Worst movie I have seen since Gingerale Aftern...  10889_1.txt         0"
      ]
     },
     "execution_count": 185,
     "metadata": {},
     "output_type": "execute_result"
    }
   ],
   "source": [
    "pre.data['Train'].head()"
   ]
  },
  {
   "cell_type": "code",
   "execution_count": 186,
   "metadata": {},
   "outputs": [],
   "source": [
    "# Create three Counter objects to store positive, negative and total counts\n",
    "positive_counts = Counter()\n",
    "negative_counts = Counter()\n",
    "total_counts = Counter()"
   ]
  },
  {
   "cell_type": "code",
   "execution_count": 187,
   "metadata": {},
   "outputs": [],
   "source": [
    "# Loop over all the words in all the reviews and increment the counts in the appropriate counter objects\n",
    "word1=''\n",
    "for i in range(pre.data['Train'].shape[0]):\n",
    "    if(pre.data['Train']['POS__NEG'][i] == 1):\n",
    "        for word in pre.data['Train']['text'][i].split(\" \"):\n",
    "            word2=word\n",
    "            positive_counts[word1+' '+word2] += 1\n",
    "            total_counts[word1+' '+word2] += 1\n",
    "            word1=word2\n",
    "    else:\n",
    "        for word in pre.data['Train']['text'][i].split(\" \"):\n",
    "            word2=word\n",
    "            negative_counts[word1+' '+word2] += 1\n",
    "            total_counts[word1+' '+word2] += 1\n",
    "            word1=word2"
   ]
  },
  {
   "cell_type": "code",
   "execution_count": 188,
   "metadata": {},
   "outputs": [],
   "source": [
    "pos_neg_ratios = Counter()\n",
    "\n",
    "# Calculate the ratios of positive and negative uses of the most common words\n",
    "# Consider words to be \"common\" if they've been used at least 100 times\n",
    "for term,cnt in list(total_counts.most_common()):\n",
    "    if(cnt > 100):\n",
    "        pos_neg_ratio = positive_counts[term] / float(negative_counts[term]+1)\n",
    "        pos_neg_ratios[term] = pos_neg_ratio"
   ]
  },
  {
   "cell_type": "code",
   "execution_count": 189,
   "metadata": {},
   "outputs": [],
   "source": [
    "drop_count=0\n",
    "drop_words = []\n",
    "\n",
    "# Convert ratios to logs\n",
    "for word,ratio in pos_neg_ratios.most_common():\n",
    "    pos_neg_ratios[word] = np.log(ratio)\n",
    "    if pos_neg_ratios[word]>-0.95 and pos_neg_ratios[word]<0.95:\n",
    "        drop_words.append(word)\n",
    "        drop_count+=1"
   ]
  },
  {
   "cell_type": "code",
   "execution_count": 190,
   "metadata": {},
   "outputs": [
    {
     "data": {
      "text/plain": [
       "4407"
      ]
     },
     "execution_count": 190,
     "metadata": {},
     "output_type": "execute_result"
    }
   ],
   "source": [
    "len(list(drop_words))"
   ]
  },
  {
   "cell_type": "code",
   "execution_count": 191,
   "metadata": {},
   "outputs": [
    {
     "data": {
      "text/plain": [
       "4755"
      ]
     },
     "execution_count": 191,
     "metadata": {},
     "output_type": "execute_result"
    }
   ],
   "source": [
    "len(list(pos_neg_ratios))"
   ]
  },
  {
   "cell_type": "code",
   "execution_count": 192,
   "metadata": {},
   "outputs": [],
   "source": [
    "listx = pos_neg_ratios.copy()"
   ]
  },
  {
   "cell_type": "code",
   "execution_count": 193,
   "metadata": {},
   "outputs": [],
   "source": [
    "for dword in drop_words:\n",
    "    del listx[dword]"
   ]
  },
  {
   "cell_type": "code",
   "execution_count": 194,
   "metadata": {},
   "outputs": [
    {
     "data": {
      "text/plain": [
       "348"
      ]
     },
     "execution_count": 194,
     "metadata": {},
     "output_type": "execute_result"
    }
   ],
   "source": [
    "len(list(listx))"
   ]
  },
  {
   "cell_type": "code",
   "execution_count": 195,
   "metadata": {},
   "outputs": [],
   "source": [
    "word_list = dict(listx)"
   ]
  },
  {
   "cell_type": "code",
   "execution_count": 196,
   "metadata": {},
   "outputs": [],
   "source": [
    "count = 0\n",
    "for key,idx in word_list.items():\n",
    "    word_list[key]=count\n",
    "    count+=1"
   ]
  },
  {
   "cell_type": "code",
   "execution_count": 197,
   "metadata": {},
   "outputs": [],
   "source": [
    "data=np.zeros((pre.data['Train'].shape[0], len(word_list)))\n",
    "\n",
    "word1=''\n",
    "for i in range(pre.data['Train'].shape[0]):    \n",
    "     for word in pre.data['Train']['text'][i].split(\" \"):\n",
    "            word2=word\n",
    "            if word1+' '+word2 in word_list:\n",
    "                data[i][word_list[word1+' '+word2]]+=word_list[word1+' '+word2]\n",
    "            word1=word2\n"
   ]
  },
  {
   "cell_type": "code",
   "execution_count": 198,
   "metadata": {},
   "outputs": [
    {
     "data": {
      "text/plain": [
       "array([[  0.,   0.,   0., ...,   0.,   0.,   0.],\n",
       "       [  0.,   0.,   0., ...,   0.,   0.,   0.],\n",
       "       [  0.,   0.,   0., ...,   0.,   0.,   0.],\n",
       "       ...,\n",
       "       [  0.,   0.,   0., ...,   0.,   0.,   0.],\n",
       "       [  0.,   0.,   0., ...,   0.,   0.,   0.],\n",
       "       [  0.,   0.,   0., ..., 345.,   0.,   0.]])"
      ]
     },
     "execution_count": 198,
     "metadata": {},
     "output_type": "execute_result"
    }
   ],
   "source": [
    "data"
   ]
  },
  {
   "cell_type": "code",
   "execution_count": 199,
   "metadata": {},
   "outputs": [
    {
     "data": {
      "text/plain": [
       "(25000, 348)"
      ]
     },
     "execution_count": 199,
     "metadata": {},
     "output_type": "execute_result"
    }
   ],
   "source": [
    "data.shape"
   ]
  },
  {
   "cell_type": "code",
   "execution_count": 200,
   "metadata": {},
   "outputs": [],
   "source": [
    "pre.set('Train_raw', pre.data['Train'])"
   ]
  },
  {
   "cell_type": "code",
   "execution_count": 202,
   "metadata": {},
   "outputs": [
    {
     "data": {
      "text/html": [
       "<div>\n",
       "<style scoped>\n",
       "    .dataframe tbody tr th:only-of-type {\n",
       "        vertical-align: middle;\n",
       "    }\n",
       "\n",
       "    .dataframe tbody tr th {\n",
       "        vertical-align: top;\n",
       "    }\n",
       "\n",
       "    .dataframe thead th {\n",
       "        text-align: right;\n",
       "    }\n",
       "</style>\n",
       "<table border=\"1\" class=\"dataframe\">\n",
       "  <thead>\n",
       "    <tr style=\"text-align: right;\">\n",
       "      <th></th>\n",
       "      <th>the best</th>\n",
       "      <th>the worst</th>\n",
       "      <th>supposed to</th>\n",
       "      <th>a bad</th>\n",
       "      <th>looks like</th>\n",
       "      <th>not even</th>\n",
       "      <th>bunch of</th>\n",
       "      <th>waste of</th>\n",
       "      <th>at all.</th>\n",
       "      <th>minutes of</th>\n",
       "      <th>...</th>\n",
       "      <th>drama and</th>\n",
       "      <th>bad for</th>\n",
       "      <th>can't wait</th>\n",
       "      <th>about any</th>\n",
       "      <th>gore and</th>\n",
       "      <th>delivers a</th>\n",
       "      <th>well done.</th>\n",
       "      <th>why did</th>\n",
       "      <th>any real</th>\n",
       "      <th>the gore</th>\n",
       "    </tr>\n",
       "  </thead>\n",
       "  <tbody>\n",
       "    <tr>\n",
       "      <th>count</th>\n",
       "      <td>25000.0</td>\n",
       "      <td>25000.0000</td>\n",
       "      <td>25000.00000</td>\n",
       "      <td>25000.000000</td>\n",
       "      <td>25000.000000</td>\n",
       "      <td>25000.000000</td>\n",
       "      <td>25000.000000</td>\n",
       "      <td>25000.000000</td>\n",
       "      <td>25000.000000</td>\n",
       "      <td>25000.000000</td>\n",
       "      <td>...</td>\n",
       "      <td>25000.000000</td>\n",
       "      <td>25000.000000</td>\n",
       "      <td>25000.000000</td>\n",
       "      <td>25000.000000</td>\n",
       "      <td>25000.000000</td>\n",
       "      <td>25000.00000</td>\n",
       "      <td>25000.000000</td>\n",
       "      <td>25000.000000</td>\n",
       "      <td>25000.000000</td>\n",
       "      <td>25000.000000</td>\n",
       "    </tr>\n",
       "    <tr>\n",
       "      <th>mean</th>\n",
       "      <td>0.0</td>\n",
       "      <td>0.0706</td>\n",
       "      <td>0.10576</td>\n",
       "      <td>0.129960</td>\n",
       "      <td>0.117120</td>\n",
       "      <td>0.140600</td>\n",
       "      <td>0.163680</td>\n",
       "      <td>0.188440</td>\n",
       "      <td>0.204480</td>\n",
       "      <td>0.218880</td>\n",
       "      <td>...</td>\n",
       "      <td>1.379040</td>\n",
       "      <td>1.383120</td>\n",
       "      <td>1.387200</td>\n",
       "      <td>1.391280</td>\n",
       "      <td>1.395360</td>\n",
       "      <td>1.38572</td>\n",
       "      <td>1.389760</td>\n",
       "      <td>1.393800</td>\n",
       "      <td>1.397840</td>\n",
       "      <td>1.401880</td>\n",
       "    </tr>\n",
       "    <tr>\n",
       "      <th>std</th>\n",
       "      <td>0.0</td>\n",
       "      <td>0.2911</td>\n",
       "      <td>0.52462</td>\n",
       "      <td>0.679389</td>\n",
       "      <td>0.750723</td>\n",
       "      <td>0.863285</td>\n",
       "      <td>1.079618</td>\n",
       "      <td>1.229224</td>\n",
       "      <td>1.346945</td>\n",
       "      <td>1.485672</td>\n",
       "      <td>...</td>\n",
       "      <td>22.173227</td>\n",
       "      <td>21.609797</td>\n",
       "      <td>22.096136</td>\n",
       "      <td>21.950229</td>\n",
       "      <td>22.435632</td>\n",
       "      <td>22.18615</td>\n",
       "      <td>22.037067</td>\n",
       "      <td>22.946664</td>\n",
       "      <td>22.380198</td>\n",
       "      <td>22.870044</td>\n",
       "    </tr>\n",
       "    <tr>\n",
       "      <th>min</th>\n",
       "      <td>0.0</td>\n",
       "      <td>0.0000</td>\n",
       "      <td>0.00000</td>\n",
       "      <td>0.000000</td>\n",
       "      <td>0.000000</td>\n",
       "      <td>0.000000</td>\n",
       "      <td>0.000000</td>\n",
       "      <td>0.000000</td>\n",
       "      <td>0.000000</td>\n",
       "      <td>0.000000</td>\n",
       "      <td>...</td>\n",
       "      <td>0.000000</td>\n",
       "      <td>0.000000</td>\n",
       "      <td>0.000000</td>\n",
       "      <td>0.000000</td>\n",
       "      <td>0.000000</td>\n",
       "      <td>0.00000</td>\n",
       "      <td>0.000000</td>\n",
       "      <td>0.000000</td>\n",
       "      <td>0.000000</td>\n",
       "      <td>0.000000</td>\n",
       "    </tr>\n",
       "    <tr>\n",
       "      <th>25%</th>\n",
       "      <td>0.0</td>\n",
       "      <td>0.0000</td>\n",
       "      <td>0.00000</td>\n",
       "      <td>0.000000</td>\n",
       "      <td>0.000000</td>\n",
       "      <td>0.000000</td>\n",
       "      <td>0.000000</td>\n",
       "      <td>0.000000</td>\n",
       "      <td>0.000000</td>\n",
       "      <td>0.000000</td>\n",
       "      <td>...</td>\n",
       "      <td>0.000000</td>\n",
       "      <td>0.000000</td>\n",
       "      <td>0.000000</td>\n",
       "      <td>0.000000</td>\n",
       "      <td>0.000000</td>\n",
       "      <td>0.00000</td>\n",
       "      <td>0.000000</td>\n",
       "      <td>0.000000</td>\n",
       "      <td>0.000000</td>\n",
       "      <td>0.000000</td>\n",
       "    </tr>\n",
       "    <tr>\n",
       "      <th>50%</th>\n",
       "      <td>0.0</td>\n",
       "      <td>0.0000</td>\n",
       "      <td>0.00000</td>\n",
       "      <td>0.000000</td>\n",
       "      <td>0.000000</td>\n",
       "      <td>0.000000</td>\n",
       "      <td>0.000000</td>\n",
       "      <td>0.000000</td>\n",
       "      <td>0.000000</td>\n",
       "      <td>0.000000</td>\n",
       "      <td>...</td>\n",
       "      <td>0.000000</td>\n",
       "      <td>0.000000</td>\n",
       "      <td>0.000000</td>\n",
       "      <td>0.000000</td>\n",
       "      <td>0.000000</td>\n",
       "      <td>0.00000</td>\n",
       "      <td>0.000000</td>\n",
       "      <td>0.000000</td>\n",
       "      <td>0.000000</td>\n",
       "      <td>0.000000</td>\n",
       "    </tr>\n",
       "    <tr>\n",
       "      <th>75%</th>\n",
       "      <td>0.0</td>\n",
       "      <td>0.0000</td>\n",
       "      <td>0.00000</td>\n",
       "      <td>0.000000</td>\n",
       "      <td>0.000000</td>\n",
       "      <td>0.000000</td>\n",
       "      <td>0.000000</td>\n",
       "      <td>0.000000</td>\n",
       "      <td>0.000000</td>\n",
       "      <td>0.000000</td>\n",
       "      <td>...</td>\n",
       "      <td>0.000000</td>\n",
       "      <td>0.000000</td>\n",
       "      <td>0.000000</td>\n",
       "      <td>0.000000</td>\n",
       "      <td>0.000000</td>\n",
       "      <td>0.00000</td>\n",
       "      <td>0.000000</td>\n",
       "      <td>0.000000</td>\n",
       "      <td>0.000000</td>\n",
       "      <td>0.000000</td>\n",
       "    </tr>\n",
       "    <tr>\n",
       "      <th>max</th>\n",
       "      <td>0.0</td>\n",
       "      <td>5.0000</td>\n",
       "      <td>10.00000</td>\n",
       "      <td>18.000000</td>\n",
       "      <td>20.000000</td>\n",
       "      <td>15.000000</td>\n",
       "      <td>30.000000</td>\n",
       "      <td>35.000000</td>\n",
       "      <td>32.000000</td>\n",
       "      <td>36.000000</td>\n",
       "      <td>...</td>\n",
       "      <td>676.000000</td>\n",
       "      <td>339.000000</td>\n",
       "      <td>680.000000</td>\n",
       "      <td>682.000000</td>\n",
       "      <td>684.000000</td>\n",
       "      <td>686.00000</td>\n",
       "      <td>688.000000</td>\n",
       "      <td>690.000000</td>\n",
       "      <td>692.000000</td>\n",
       "      <td>694.000000</td>\n",
       "    </tr>\n",
       "  </tbody>\n",
       "</table>\n",
       "<p>8 rows × 348 columns</p>\n",
       "</div>"
      ],
      "text/plain": [
       "       the best   the worst  supposed to         a bad    looks like  \\\n",
       "count   25000.0  25000.0000  25000.00000  25000.000000  25000.000000   \n",
       "mean        0.0      0.0706      0.10576      0.129960      0.117120   \n",
       "std         0.0      0.2911      0.52462      0.679389      0.750723   \n",
       "min         0.0      0.0000      0.00000      0.000000      0.000000   \n",
       "25%         0.0      0.0000      0.00000      0.000000      0.000000   \n",
       "50%         0.0      0.0000      0.00000      0.000000      0.000000   \n",
       "75%         0.0      0.0000      0.00000      0.000000      0.000000   \n",
       "max         0.0      5.0000     10.00000     18.000000     20.000000   \n",
       "\n",
       "           not even      bunch of      waste of       at all.    minutes of  \\\n",
       "count  25000.000000  25000.000000  25000.000000  25000.000000  25000.000000   \n",
       "mean       0.140600      0.163680      0.188440      0.204480      0.218880   \n",
       "std        0.863285      1.079618      1.229224      1.346945      1.485672   \n",
       "min        0.000000      0.000000      0.000000      0.000000      0.000000   \n",
       "25%        0.000000      0.000000      0.000000      0.000000      0.000000   \n",
       "50%        0.000000      0.000000      0.000000      0.000000      0.000000   \n",
       "75%        0.000000      0.000000      0.000000      0.000000      0.000000   \n",
       "max       15.000000     30.000000     35.000000     32.000000     36.000000   \n",
       "\n",
       "       ...     drama and       bad for    can't wait     about any  \\\n",
       "count  ...  25000.000000  25000.000000  25000.000000  25000.000000   \n",
       "mean   ...      1.379040      1.383120      1.387200      1.391280   \n",
       "std    ...     22.173227     21.609797     22.096136     21.950229   \n",
       "min    ...      0.000000      0.000000      0.000000      0.000000   \n",
       "25%    ...      0.000000      0.000000      0.000000      0.000000   \n",
       "50%    ...      0.000000      0.000000      0.000000      0.000000   \n",
       "75%    ...      0.000000      0.000000      0.000000      0.000000   \n",
       "max    ...    676.000000    339.000000    680.000000    682.000000   \n",
       "\n",
       "           gore and   delivers a    well done.       why did      any real  \\\n",
       "count  25000.000000  25000.00000  25000.000000  25000.000000  25000.000000   \n",
       "mean       1.395360      1.38572      1.389760      1.393800      1.397840   \n",
       "std       22.435632     22.18615     22.037067     22.946664     22.380198   \n",
       "min        0.000000      0.00000      0.000000      0.000000      0.000000   \n",
       "25%        0.000000      0.00000      0.000000      0.000000      0.000000   \n",
       "50%        0.000000      0.00000      0.000000      0.000000      0.000000   \n",
       "75%        0.000000      0.00000      0.000000      0.000000      0.000000   \n",
       "max      684.000000    686.00000    688.000000    690.000000    692.000000   \n",
       "\n",
       "           the gore  \n",
       "count  25000.000000  \n",
       "mean       1.401880  \n",
       "std       22.870044  \n",
       "min        0.000000  \n",
       "25%        0.000000  \n",
       "50%        0.000000  \n",
       "75%        0.000000  \n",
       "max      694.000000  \n",
       "\n",
       "[8 rows x 348 columns]"
      ]
     },
     "execution_count": 202,
     "metadata": {},
     "output_type": "execute_result"
    }
   ],
   "source": [
    "pre.set('Train', pd.DataFrame(data, columns=word_list))\n",
    "pre.data['Train'].describe()"
   ]
  },
  {
   "cell_type": "code",
   "execution_count": 203,
   "metadata": {},
   "outputs": [],
   "source": [
    "data_test=np.zeros((pre.data['Test'].shape[0], len(word_list)))\n",
    "\n",
    "word1=''\n",
    "for i in range(pre.data['Test'].shape[0]):    \n",
    "     for word in pre.data['Test']['text'][i].split(\" \"):\n",
    "            word2=word\n",
    "            if word1+' '+word2 in word_list:\n",
    "                data_test[i][word_list[word1+' '+word2]]+=word_list[word1+' '+word2]\n",
    "            word1=word2"
   ]
  },
  {
   "cell_type": "code",
   "execution_count": 204,
   "metadata": {},
   "outputs": [],
   "source": [
    "pre.set('Test_raw', pre.data['Test'])"
   ]
  },
  {
   "cell_type": "code",
   "execution_count": 206,
   "metadata": {},
   "outputs": [
    {
     "data": {
      "text/html": [
       "<div>\n",
       "<style scoped>\n",
       "    .dataframe tbody tr th:only-of-type {\n",
       "        vertical-align: middle;\n",
       "    }\n",
       "\n",
       "    .dataframe tbody tr th {\n",
       "        vertical-align: top;\n",
       "    }\n",
       "\n",
       "    .dataframe thead th {\n",
       "        text-align: right;\n",
       "    }\n",
       "</style>\n",
       "<table border=\"1\" class=\"dataframe\">\n",
       "  <thead>\n",
       "    <tr style=\"text-align: right;\">\n",
       "      <th></th>\n",
       "      <th>the best</th>\n",
       "      <th>the worst</th>\n",
       "      <th>supposed to</th>\n",
       "      <th>a bad</th>\n",
       "      <th>looks like</th>\n",
       "      <th>not even</th>\n",
       "      <th>bunch of</th>\n",
       "      <th>waste of</th>\n",
       "      <th>at all.</th>\n",
       "      <th>minutes of</th>\n",
       "      <th>...</th>\n",
       "      <th>drama and</th>\n",
       "      <th>bad for</th>\n",
       "      <th>can't wait</th>\n",
       "      <th>about any</th>\n",
       "      <th>gore and</th>\n",
       "      <th>delivers a</th>\n",
       "      <th>well done.</th>\n",
       "      <th>why did</th>\n",
       "      <th>any real</th>\n",
       "      <th>the gore</th>\n",
       "    </tr>\n",
       "  </thead>\n",
       "  <tbody>\n",
       "    <tr>\n",
       "      <th>count</th>\n",
       "      <td>25000.0</td>\n",
       "      <td>25000.000000</td>\n",
       "      <td>25000.000000</td>\n",
       "      <td>25000.000000</td>\n",
       "      <td>25000.000000</td>\n",
       "      <td>25000.000000</td>\n",
       "      <td>25000.000000</td>\n",
       "      <td>25000.000000</td>\n",
       "      <td>25000.000000</td>\n",
       "      <td>25000.000000</td>\n",
       "      <td>...</td>\n",
       "      <td>25000.00000</td>\n",
       "      <td>25000.000000</td>\n",
       "      <td>25000.000000</td>\n",
       "      <td>25000.000000</td>\n",
       "      <td>25000.00000</td>\n",
       "      <td>25000.000000</td>\n",
       "      <td>25000.000000</td>\n",
       "      <td>25000.000000</td>\n",
       "      <td>25000.000000</td>\n",
       "      <td>25000.00000</td>\n",
       "    </tr>\n",
       "    <tr>\n",
       "      <th>mean</th>\n",
       "      <td>0.0</td>\n",
       "      <td>0.068240</td>\n",
       "      <td>0.090880</td>\n",
       "      <td>0.121920</td>\n",
       "      <td>0.112800</td>\n",
       "      <td>0.139600</td>\n",
       "      <td>0.162480</td>\n",
       "      <td>0.184800</td>\n",
       "      <td>0.197440</td>\n",
       "      <td>0.221400</td>\n",
       "      <td>...</td>\n",
       "      <td>1.06808</td>\n",
       "      <td>1.220400</td>\n",
       "      <td>0.992800</td>\n",
       "      <td>1.200320</td>\n",
       "      <td>1.08072</td>\n",
       "      <td>1.234800</td>\n",
       "      <td>1.293440</td>\n",
       "      <td>1.559400</td>\n",
       "      <td>1.550080</td>\n",
       "      <td>1.44352</td>\n",
       "    </tr>\n",
       "    <tr>\n",
       "      <th>std</th>\n",
       "      <td>0.0</td>\n",
       "      <td>0.290494</td>\n",
       "      <td>0.467236</td>\n",
       "      <td>0.641959</td>\n",
       "      <td>0.710673</td>\n",
       "      <td>0.881217</td>\n",
       "      <td>1.053473</td>\n",
       "      <td>1.217764</td>\n",
       "      <td>1.319199</td>\n",
       "      <td>1.505879</td>\n",
       "      <td>...</td>\n",
       "      <td>19.44645</td>\n",
       "      <td>20.751646</td>\n",
       "      <td>18.346112</td>\n",
       "      <td>20.425169</td>\n",
       "      <td>19.19513</td>\n",
       "      <td>20.996503</td>\n",
       "      <td>21.718423</td>\n",
       "      <td>23.751839</td>\n",
       "      <td>24.515096</td>\n",
       "      <td>23.59314</td>\n",
       "    </tr>\n",
       "    <tr>\n",
       "      <th>min</th>\n",
       "      <td>0.0</td>\n",
       "      <td>0.000000</td>\n",
       "      <td>0.000000</td>\n",
       "      <td>0.000000</td>\n",
       "      <td>0.000000</td>\n",
       "      <td>0.000000</td>\n",
       "      <td>0.000000</td>\n",
       "      <td>0.000000</td>\n",
       "      <td>0.000000</td>\n",
       "      <td>0.000000</td>\n",
       "      <td>...</td>\n",
       "      <td>0.00000</td>\n",
       "      <td>0.000000</td>\n",
       "      <td>0.000000</td>\n",
       "      <td>0.000000</td>\n",
       "      <td>0.00000</td>\n",
       "      <td>0.000000</td>\n",
       "      <td>0.000000</td>\n",
       "      <td>0.000000</td>\n",
       "      <td>0.000000</td>\n",
       "      <td>0.00000</td>\n",
       "    </tr>\n",
       "    <tr>\n",
       "      <th>25%</th>\n",
       "      <td>0.0</td>\n",
       "      <td>0.000000</td>\n",
       "      <td>0.000000</td>\n",
       "      <td>0.000000</td>\n",
       "      <td>0.000000</td>\n",
       "      <td>0.000000</td>\n",
       "      <td>0.000000</td>\n",
       "      <td>0.000000</td>\n",
       "      <td>0.000000</td>\n",
       "      <td>0.000000</td>\n",
       "      <td>...</td>\n",
       "      <td>0.00000</td>\n",
       "      <td>0.000000</td>\n",
       "      <td>0.000000</td>\n",
       "      <td>0.000000</td>\n",
       "      <td>0.00000</td>\n",
       "      <td>0.000000</td>\n",
       "      <td>0.000000</td>\n",
       "      <td>0.000000</td>\n",
       "      <td>0.000000</td>\n",
       "      <td>0.00000</td>\n",
       "    </tr>\n",
       "    <tr>\n",
       "      <th>50%</th>\n",
       "      <td>0.0</td>\n",
       "      <td>0.000000</td>\n",
       "      <td>0.000000</td>\n",
       "      <td>0.000000</td>\n",
       "      <td>0.000000</td>\n",
       "      <td>0.000000</td>\n",
       "      <td>0.000000</td>\n",
       "      <td>0.000000</td>\n",
       "      <td>0.000000</td>\n",
       "      <td>0.000000</td>\n",
       "      <td>...</td>\n",
       "      <td>0.00000</td>\n",
       "      <td>0.000000</td>\n",
       "      <td>0.000000</td>\n",
       "      <td>0.000000</td>\n",
       "      <td>0.00000</td>\n",
       "      <td>0.000000</td>\n",
       "      <td>0.000000</td>\n",
       "      <td>0.000000</td>\n",
       "      <td>0.000000</td>\n",
       "      <td>0.00000</td>\n",
       "    </tr>\n",
       "    <tr>\n",
       "      <th>75%</th>\n",
       "      <td>0.0</td>\n",
       "      <td>0.000000</td>\n",
       "      <td>0.000000</td>\n",
       "      <td>0.000000</td>\n",
       "      <td>0.000000</td>\n",
       "      <td>0.000000</td>\n",
       "      <td>0.000000</td>\n",
       "      <td>0.000000</td>\n",
       "      <td>0.000000</td>\n",
       "      <td>0.000000</td>\n",
       "      <td>...</td>\n",
       "      <td>0.00000</td>\n",
       "      <td>0.000000</td>\n",
       "      <td>0.000000</td>\n",
       "      <td>0.000000</td>\n",
       "      <td>0.00000</td>\n",
       "      <td>0.000000</td>\n",
       "      <td>0.000000</td>\n",
       "      <td>0.000000</td>\n",
       "      <td>0.000000</td>\n",
       "      <td>0.00000</td>\n",
       "    </tr>\n",
       "    <tr>\n",
       "      <th>max</th>\n",
       "      <td>0.0</td>\n",
       "      <td>6.000000</td>\n",
       "      <td>8.000000</td>\n",
       "      <td>18.000000</td>\n",
       "      <td>16.000000</td>\n",
       "      <td>15.000000</td>\n",
       "      <td>24.000000</td>\n",
       "      <td>35.000000</td>\n",
       "      <td>24.000000</td>\n",
       "      <td>54.000000</td>\n",
       "      <td>...</td>\n",
       "      <td>676.00000</td>\n",
       "      <td>678.000000</td>\n",
       "      <td>340.000000</td>\n",
       "      <td>682.000000</td>\n",
       "      <td>342.00000</td>\n",
       "      <td>686.000000</td>\n",
       "      <td>688.000000</td>\n",
       "      <td>690.000000</td>\n",
       "      <td>1038.000000</td>\n",
       "      <td>694.00000</td>\n",
       "    </tr>\n",
       "  </tbody>\n",
       "</table>\n",
       "<p>8 rows × 348 columns</p>\n",
       "</div>"
      ],
      "text/plain": [
       "       the best     the worst   supposed to         a bad    looks like  \\\n",
       "count   25000.0  25000.000000  25000.000000  25000.000000  25000.000000   \n",
       "mean        0.0      0.068240      0.090880      0.121920      0.112800   \n",
       "std         0.0      0.290494      0.467236      0.641959      0.710673   \n",
       "min         0.0      0.000000      0.000000      0.000000      0.000000   \n",
       "25%         0.0      0.000000      0.000000      0.000000      0.000000   \n",
       "50%         0.0      0.000000      0.000000      0.000000      0.000000   \n",
       "75%         0.0      0.000000      0.000000      0.000000      0.000000   \n",
       "max         0.0      6.000000      8.000000     18.000000     16.000000   \n",
       "\n",
       "           not even      bunch of      waste of       at all.    minutes of  \\\n",
       "count  25000.000000  25000.000000  25000.000000  25000.000000  25000.000000   \n",
       "mean       0.139600      0.162480      0.184800      0.197440      0.221400   \n",
       "std        0.881217      1.053473      1.217764      1.319199      1.505879   \n",
       "min        0.000000      0.000000      0.000000      0.000000      0.000000   \n",
       "25%        0.000000      0.000000      0.000000      0.000000      0.000000   \n",
       "50%        0.000000      0.000000      0.000000      0.000000      0.000000   \n",
       "75%        0.000000      0.000000      0.000000      0.000000      0.000000   \n",
       "max       15.000000     24.000000     35.000000     24.000000     54.000000   \n",
       "\n",
       "       ...    drama and       bad for    can't wait     about any  \\\n",
       "count  ...  25000.00000  25000.000000  25000.000000  25000.000000   \n",
       "mean   ...      1.06808      1.220400      0.992800      1.200320   \n",
       "std    ...     19.44645     20.751646     18.346112     20.425169   \n",
       "min    ...      0.00000      0.000000      0.000000      0.000000   \n",
       "25%    ...      0.00000      0.000000      0.000000      0.000000   \n",
       "50%    ...      0.00000      0.000000      0.000000      0.000000   \n",
       "75%    ...      0.00000      0.000000      0.000000      0.000000   \n",
       "max    ...    676.00000    678.000000    340.000000    682.000000   \n",
       "\n",
       "          gore and    delivers a    well done.       why did      any real  \\\n",
       "count  25000.00000  25000.000000  25000.000000  25000.000000  25000.000000   \n",
       "mean       1.08072      1.234800      1.293440      1.559400      1.550080   \n",
       "std       19.19513     20.996503     21.718423     23.751839     24.515096   \n",
       "min        0.00000      0.000000      0.000000      0.000000      0.000000   \n",
       "25%        0.00000      0.000000      0.000000      0.000000      0.000000   \n",
       "50%        0.00000      0.000000      0.000000      0.000000      0.000000   \n",
       "75%        0.00000      0.000000      0.000000      0.000000      0.000000   \n",
       "max      342.00000    686.000000    688.000000    690.000000   1038.000000   \n",
       "\n",
       "          the gore  \n",
       "count  25000.00000  \n",
       "mean       1.44352  \n",
       "std       23.59314  \n",
       "min        0.00000  \n",
       "25%        0.00000  \n",
       "50%        0.00000  \n",
       "75%        0.00000  \n",
       "max      694.00000  \n",
       "\n",
       "[8 rows x 348 columns]"
      ]
     },
     "execution_count": 206,
     "metadata": {},
     "output_type": "execute_result"
    }
   ],
   "source": [
    "pre.set('Test', pd.DataFrame(data_test, columns=word_list))\n",
    "pre.data['Test'].describe()"
   ]
  },
  {
   "cell_type": "code",
   "execution_count": 182,
   "metadata": {},
   "outputs": [
    {
     "data": {
      "text/html": [
       "<div>\n",
       "<style scoped>\n",
       "    .dataframe tbody tr th:only-of-type {\n",
       "        vertical-align: middle;\n",
       "    }\n",
       "\n",
       "    .dataframe tbody tr th {\n",
       "        vertical-align: top;\n",
       "    }\n",
       "\n",
       "    .dataframe thead th {\n",
       "        text-align: right;\n",
       "    }\n",
       "</style>\n",
       "<table border=\"1\" class=\"dataframe\">\n",
       "  <thead>\n",
       "    <tr style=\"text-align: right;\">\n",
       "      <th></th>\n",
       "      <th>the best</th>\n",
       "      <th>the worst</th>\n",
       "      <th>supposed to</th>\n",
       "      <th>a bad</th>\n",
       "      <th>looks like</th>\n",
       "      <th>not even</th>\n",
       "      <th>bunch of</th>\n",
       "      <th>waste of</th>\n",
       "      <th>at all.</th>\n",
       "      <th>minutes of</th>\n",
       "      <th>...</th>\n",
       "      <th>the script.</th>\n",
       "      <th>about any</th>\n",
       "      <th>whom he</th>\n",
       "      <th>can't wait</th>\n",
       "      <th>running around</th>\n",
       "      <th>well done.</th>\n",
       "      <th>any real</th>\n",
       "      <th>delivers a</th>\n",
       "      <th>why did</th>\n",
       "      <th>the gore</th>\n",
       "    </tr>\n",
       "  </thead>\n",
       "  <tbody>\n",
       "    <tr>\n",
       "      <th>count</th>\n",
       "      <td>25000.0</td>\n",
       "      <td>25000.0</td>\n",
       "      <td>25000.0</td>\n",
       "      <td>25000.0</td>\n",
       "      <td>25000.0</td>\n",
       "      <td>25000.0</td>\n",
       "      <td>25000.0</td>\n",
       "      <td>25000.0</td>\n",
       "      <td>25000.0</td>\n",
       "      <td>25000.0</td>\n",
       "      <td>...</td>\n",
       "      <td>25000.0</td>\n",
       "      <td>25000.0</td>\n",
       "      <td>25000.0</td>\n",
       "      <td>25000.0</td>\n",
       "      <td>25000.0</td>\n",
       "      <td>25000.0</td>\n",
       "      <td>25000.0</td>\n",
       "      <td>25000.0</td>\n",
       "      <td>25000.0</td>\n",
       "      <td>25000.0</td>\n",
       "    </tr>\n",
       "    <tr>\n",
       "      <th>mean</th>\n",
       "      <td>0.0</td>\n",
       "      <td>0.0</td>\n",
       "      <td>0.0</td>\n",
       "      <td>0.0</td>\n",
       "      <td>0.0</td>\n",
       "      <td>0.0</td>\n",
       "      <td>0.0</td>\n",
       "      <td>0.0</td>\n",
       "      <td>0.0</td>\n",
       "      <td>0.0</td>\n",
       "      <td>...</td>\n",
       "      <td>0.0</td>\n",
       "      <td>0.0</td>\n",
       "      <td>0.0</td>\n",
       "      <td>0.0</td>\n",
       "      <td>0.0</td>\n",
       "      <td>0.0</td>\n",
       "      <td>0.0</td>\n",
       "      <td>0.0</td>\n",
       "      <td>0.0</td>\n",
       "      <td>0.0</td>\n",
       "    </tr>\n",
       "    <tr>\n",
       "      <th>std</th>\n",
       "      <td>0.0</td>\n",
       "      <td>0.0</td>\n",
       "      <td>0.0</td>\n",
       "      <td>0.0</td>\n",
       "      <td>0.0</td>\n",
       "      <td>0.0</td>\n",
       "      <td>0.0</td>\n",
       "      <td>0.0</td>\n",
       "      <td>0.0</td>\n",
       "      <td>0.0</td>\n",
       "      <td>...</td>\n",
       "      <td>0.0</td>\n",
       "      <td>0.0</td>\n",
       "      <td>0.0</td>\n",
       "      <td>0.0</td>\n",
       "      <td>0.0</td>\n",
       "      <td>0.0</td>\n",
       "      <td>0.0</td>\n",
       "      <td>0.0</td>\n",
       "      <td>0.0</td>\n",
       "      <td>0.0</td>\n",
       "    </tr>\n",
       "    <tr>\n",
       "      <th>min</th>\n",
       "      <td>0.0</td>\n",
       "      <td>0.0</td>\n",
       "      <td>0.0</td>\n",
       "      <td>0.0</td>\n",
       "      <td>0.0</td>\n",
       "      <td>0.0</td>\n",
       "      <td>0.0</td>\n",
       "      <td>0.0</td>\n",
       "      <td>0.0</td>\n",
       "      <td>0.0</td>\n",
       "      <td>...</td>\n",
       "      <td>0.0</td>\n",
       "      <td>0.0</td>\n",
       "      <td>0.0</td>\n",
       "      <td>0.0</td>\n",
       "      <td>0.0</td>\n",
       "      <td>0.0</td>\n",
       "      <td>0.0</td>\n",
       "      <td>0.0</td>\n",
       "      <td>0.0</td>\n",
       "      <td>0.0</td>\n",
       "    </tr>\n",
       "    <tr>\n",
       "      <th>25%</th>\n",
       "      <td>0.0</td>\n",
       "      <td>0.0</td>\n",
       "      <td>0.0</td>\n",
       "      <td>0.0</td>\n",
       "      <td>0.0</td>\n",
       "      <td>0.0</td>\n",
       "      <td>0.0</td>\n",
       "      <td>0.0</td>\n",
       "      <td>0.0</td>\n",
       "      <td>0.0</td>\n",
       "      <td>...</td>\n",
       "      <td>0.0</td>\n",
       "      <td>0.0</td>\n",
       "      <td>0.0</td>\n",
       "      <td>0.0</td>\n",
       "      <td>0.0</td>\n",
       "      <td>0.0</td>\n",
       "      <td>0.0</td>\n",
       "      <td>0.0</td>\n",
       "      <td>0.0</td>\n",
       "      <td>0.0</td>\n",
       "    </tr>\n",
       "    <tr>\n",
       "      <th>50%</th>\n",
       "      <td>0.0</td>\n",
       "      <td>0.0</td>\n",
       "      <td>0.0</td>\n",
       "      <td>0.0</td>\n",
       "      <td>0.0</td>\n",
       "      <td>0.0</td>\n",
       "      <td>0.0</td>\n",
       "      <td>0.0</td>\n",
       "      <td>0.0</td>\n",
       "      <td>0.0</td>\n",
       "      <td>...</td>\n",
       "      <td>0.0</td>\n",
       "      <td>0.0</td>\n",
       "      <td>0.0</td>\n",
       "      <td>0.0</td>\n",
       "      <td>0.0</td>\n",
       "      <td>0.0</td>\n",
       "      <td>0.0</td>\n",
       "      <td>0.0</td>\n",
       "      <td>0.0</td>\n",
       "      <td>0.0</td>\n",
       "    </tr>\n",
       "    <tr>\n",
       "      <th>75%</th>\n",
       "      <td>0.0</td>\n",
       "      <td>0.0</td>\n",
       "      <td>0.0</td>\n",
       "      <td>0.0</td>\n",
       "      <td>0.0</td>\n",
       "      <td>0.0</td>\n",
       "      <td>0.0</td>\n",
       "      <td>0.0</td>\n",
       "      <td>0.0</td>\n",
       "      <td>0.0</td>\n",
       "      <td>...</td>\n",
       "      <td>0.0</td>\n",
       "      <td>0.0</td>\n",
       "      <td>0.0</td>\n",
       "      <td>0.0</td>\n",
       "      <td>0.0</td>\n",
       "      <td>0.0</td>\n",
       "      <td>0.0</td>\n",
       "      <td>0.0</td>\n",
       "      <td>0.0</td>\n",
       "      <td>0.0</td>\n",
       "    </tr>\n",
       "    <tr>\n",
       "      <th>max</th>\n",
       "      <td>0.0</td>\n",
       "      <td>0.0</td>\n",
       "      <td>0.0</td>\n",
       "      <td>0.0</td>\n",
       "      <td>0.0</td>\n",
       "      <td>0.0</td>\n",
       "      <td>0.0</td>\n",
       "      <td>0.0</td>\n",
       "      <td>0.0</td>\n",
       "      <td>0.0</td>\n",
       "      <td>...</td>\n",
       "      <td>0.0</td>\n",
       "      <td>0.0</td>\n",
       "      <td>0.0</td>\n",
       "      <td>0.0</td>\n",
       "      <td>0.0</td>\n",
       "      <td>0.0</td>\n",
       "      <td>0.0</td>\n",
       "      <td>0.0</td>\n",
       "      <td>0.0</td>\n",
       "      <td>0.0</td>\n",
       "    </tr>\n",
       "  </tbody>\n",
       "</table>\n",
       "<p>8 rows × 348 columns</p>\n",
       "</div>"
      ],
      "text/plain": [
       "       the best  the worst  supposed to    a bad  looks like  not even  \\\n",
       "count   25000.0    25000.0      25000.0  25000.0     25000.0   25000.0   \n",
       "mean        0.0        0.0          0.0      0.0         0.0       0.0   \n",
       "std         0.0        0.0          0.0      0.0         0.0       0.0   \n",
       "min         0.0        0.0          0.0      0.0         0.0       0.0   \n",
       "25%         0.0        0.0          0.0      0.0         0.0       0.0   \n",
       "50%         0.0        0.0          0.0      0.0         0.0       0.0   \n",
       "75%         0.0        0.0          0.0      0.0         0.0       0.0   \n",
       "max         0.0        0.0          0.0      0.0         0.0       0.0   \n",
       "\n",
       "       bunch of  waste of  at all.  minutes of  ...  the script.  about any  \\\n",
       "count   25000.0   25000.0  25000.0     25000.0  ...      25000.0    25000.0   \n",
       "mean        0.0       0.0      0.0         0.0  ...          0.0        0.0   \n",
       "std         0.0       0.0      0.0         0.0  ...          0.0        0.0   \n",
       "min         0.0       0.0      0.0         0.0  ...          0.0        0.0   \n",
       "25%         0.0       0.0      0.0         0.0  ...          0.0        0.0   \n",
       "50%         0.0       0.0      0.0         0.0  ...          0.0        0.0   \n",
       "75%         0.0       0.0      0.0         0.0  ...          0.0        0.0   \n",
       "max         0.0       0.0      0.0         0.0  ...          0.0        0.0   \n",
       "\n",
       "       whom he  can't wait  running around  well done.  any real  delivers a  \\\n",
       "count  25000.0     25000.0         25000.0     25000.0   25000.0     25000.0   \n",
       "mean       0.0         0.0             0.0         0.0       0.0         0.0   \n",
       "std        0.0         0.0             0.0         0.0       0.0         0.0   \n",
       "min        0.0         0.0             0.0         0.0       0.0         0.0   \n",
       "25%        0.0         0.0             0.0         0.0       0.0         0.0   \n",
       "50%        0.0         0.0             0.0         0.0       0.0         0.0   \n",
       "75%        0.0         0.0             0.0         0.0       0.0         0.0   \n",
       "max        0.0         0.0             0.0         0.0       0.0         0.0   \n",
       "\n",
       "       why did  the gore  \n",
       "count  25000.0   25000.0  \n",
       "mean       0.0       0.0  \n",
       "std        0.0       0.0  \n",
       "min        0.0       0.0  \n",
       "25%        0.0       0.0  \n",
       "50%        0.0       0.0  \n",
       "75%        0.0       0.0  \n",
       "max        0.0       0.0  \n",
       "\n",
       "[8 rows x 348 columns]"
      ]
     },
     "execution_count": 182,
     "metadata": {},
     "output_type": "execute_result"
    }
   ],
   "source": [
    "pre.data['Test'].describe()"
   ]
  },
  {
   "cell_type": "code",
   "execution_count": 430,
   "metadata": {},
   "outputs": [],
   "source": [
    "x_test = torch.tensor(pre.data['Test'].values).float()\n",
    "y_test = torch.tensor(pre.get('Test_raw')['POS__NEG'].values).long()"
   ]
  },
  {
   "cell_type": "code",
   "execution_count": 431,
   "metadata": {},
   "outputs": [],
   "source": [
    "x = torch.tensor(pre.data['Train'].values).float()\n",
    "y = torch.tensor(pre.get('Train_raw')['POS__NEG'].values).long()"
   ]
  },
  {
   "cell_type": "code",
   "execution_count": 436,
   "metadata": {},
   "outputs": [],
   "source": [
    "# Logistic regression model\n",
    "model = torch.nn.Sequential(\n",
    "    torch.nn.Linear(x.shape[1], 2)#,\n",
    "    #torch.nn.Sigmoid()\n",
    ")"
   ]
  },
  {
   "cell_type": "code",
   "execution_count": 437,
   "metadata": {},
   "outputs": [],
   "source": [
    "# Hyper-parameters \n",
    "learning_rate = 0.001"
   ]
  },
  {
   "cell_type": "code",
   "execution_count": 438,
   "metadata": {},
   "outputs": [],
   "source": [
    "# Loss and optimizer\n",
    "# nn.CrossEntropyLoss() computes softmax internally\n",
    "\n",
    "criterion = nn.CrossEntropyLoss() #nn.MSELoss()\n",
    "optimizer = torch.optim.SGD(model.parameters(), lr=learning_rate, momentum=0.9)"
   ]
  },
  {
   "cell_type": "code",
   "execution_count": 439,
   "metadata": {},
   "outputs": [],
   "source": [
    "loss_hist = []\n",
    "# Train\n",
    "for t in range(1000):\n",
    "    # Berechne die Vorhersage (foward step)\n",
    "    outputs = model(x)\n",
    "    \n",
    "    # Berechne den Fehler (Ausgabe des Fehlers alle 50 Iterationen)\n",
    "    loss = criterion(outputs, y)\n",
    "    \n",
    "    # Berechne die Gradienten und Aktualisiere die Gewichte (backward step)\n",
    "    optimizer.zero_grad()\n",
    "    loss.backward()\n",
    "    optimizer.step()\n",
    "    \n",
    "    # Berechne den Fehler (Ausgabe des Fehlers alle 100 Iterationen)\n",
    "    if t % 10 == 0:\n",
    "        loss_hist.append(loss.item())\n",
    "        #print(t, loss.item())"
   ]
  },
  {
   "cell_type": "code",
   "execution_count": 440,
   "metadata": {},
   "outputs": [
    {
     "data": {
      "image/png": "[encoded data removed]",
      "text/plain": [
       "<Figure size 432x288 with 1 Axes>"
      ]
     },
     "metadata": {
      "needs_background": "light"
     },
     "output_type": "display_data"
    }
   ],
   "source": [
    "plt.plot(loss_hist);"
   ]
  },
  {
   "cell_type": "code",
   "execution_count": 441,
   "metadata": {},
   "outputs": [
    {
     "data": {
      "text/plain": [
       "tensor(0.4706, grad_fn=<NllLossBackward>)"
      ]
     },
     "execution_count": 441,
     "metadata": {},
     "output_type": "execute_result"
    }
   ],
   "source": [
    "outputs_test = model(x_test)\n",
    "#loss = criterion(outputs_test, y_test)\n",
    "#loss"
   ]
  },
  {
   "cell_type": "code",
   "execution_count": 446,
   "metadata": {},
   "outputs": [],
   "source": [
    "agg_model = nn.Softmax()"
   ]
  },
  {
   "cell_type": "code",
   "execution_count": 487,
   "metadata": {},
   "outputs": [
    {
     "name": "stderr",
     "output_type": "stream",
     "text": [
      "/Users/cm/anaconda3/envs/imdb/lib/python3.6/site-packages/ipykernel_launcher.py:1: UserWarning: Implicit dimension choice for softmax has been deprecated. Change the call to include dim=X as an argument.\n",
      "  \"\"\"Entry point for launching an IPython kernel.\n"
     ]
    }
   ],
   "source": [
    "y_test_pred_sm = agg_model(outputs_test).argmax(1)"
   ]
  },
  {
   "cell_type": "code",
   "execution_count": 489,
   "metadata": {},
   "outputs": [
    {
     "data": {
      "text/plain": [
       "tensor(0.7749)"
      ]
     },
     "execution_count": 489,
     "metadata": {},
     "output_type": "execute_result"
    }
   ],
   "source": [
    "# Klassifikationsgenauigkeit\n",
    "classification_accuracy_test =(y_test.float() == y_test_pred_sm.float()).float().mean()\n",
    "classification_accuracy_test"
   ]
  },
  {
   "cell_type": "markdown",
   "metadata": {},
   "source": [
    "# Forest classifier"
   ]
  },
  {
   "cell_type": "code",
   "execution_count": 400,
   "metadata": {},
   "outputs": [],
   "source": [
    "RandomForestClassifier?"
   ]
  },
  {
   "cell_type": "code",
   "execution_count": 287,
   "metadata": {},
   "outputs": [],
   "source": [
    "from sklearn.ensemble import RandomForestClassifier\n",
    "from sklearn import metrics\n",
    "from sklearn.model_selection import train_test_split"
   ]
  },
  {
   "cell_type": "code",
   "execution_count": 288,
   "metadata": {},
   "outputs": [],
   "source": [
    "X_train, X_val, y_train, y_val = train_test_split(x.numpy(), y.numpy(), test_size = 0.25)"
   ]
  },
  {
   "cell_type": "code",
   "execution_count": 407,
   "metadata": {},
   "outputs": [],
   "source": [
    "error_train = []\n",
    "error_val = []\n",
    "auc_val = []\n",
    "auc_train = []\n",
    "\n",
    "for i in range(1, 30):\n",
    "    for j in range(1,50):\n",
    "        for k in range(2,50):\n",
    "            d_forest = RandomForestClassifier(\n",
    "            n_estimators=i,\n",
    "            criterion='gini',\n",
    "            max_depth=None,\n",
    "            min_samples_split=2,\n",
    "            min_samples_leaf=1,\n",
    "            min_weight_fraction_leaf=0.0,\n",
    "            max_features='auto',\n",
    "            max_leaf_nodes=None,\n",
    "            min_impurity_decrease=0.0,\n",
    "            min_impurity_split=None,\n",
    "            bootstrap=True,\n",
    "            oob_score=False,\n",
    "            n_jobs=-1,\n",
    "            random_state=None,\n",
    "            verbose=0,\n",
    "            warm_start=False,\n",
    "            class_weight=None,\n",
    "            )\n",
    "    d_forest.fit(X_train, y_train)\n",
    "    y_pred_prob_train = d_forest.predict_proba(X_train)\n",
    "    y_pred_prob_val = d_forest.predict_proba(X_val)\n",
    "    error_train.append(metrics.mean_squared_error(y_train, y_pred_prob_train[:,1]))\n",
    "    error_val.append(metrics.mean_squared_error(y_val, y_pred_prob_val[:,1]))\n",
    "\n",
    "    fpr, tpr, thresholds = metrics.roc_curve(y_train, y_pred_prob_train[:,1])\n",
    "    auc_train.append(metrics.auc(fpr, tpr))\n",
    "\n",
    "    fpr, tpr, thresholds = metrics.roc_curve(y_val, y_pred_prob_val[:,1])\n",
    "    auc_val.append(metrics.auc(fpr, tpr))"
   ]
  },
  {
   "cell_type": "code",
   "execution_count": 408,
   "metadata": {},
   "outputs": [
    {
     "data": {
      "text/plain": [
       "[<matplotlib.lines.Line2D at 0x13bb689b0>]"
      ]
     },
     "execution_count": 408,
     "metadata": {},
     "output_type": "execute_result"
    },
    {
     "data": {
      "image/png": "[encoded data removed]",
      "text/plain": [
       "<Figure size 432x288 with 1 Axes>"
      ]
     },
     "metadata": {
      "needs_background": "light"
     },
     "output_type": "display_data"
    }
   ],
   "source": [
    "plt.plot(error_train)\n",
    "plt.plot(error_val)"
   ]
  },
  {
   "cell_type": "code",
   "execution_count": 409,
   "metadata": {},
   "outputs": [
    {
     "data": {
      "text/plain": [
       "[<matplotlib.lines.Line2D at 0x12e244908>]"
      ]
     },
     "execution_count": 409,
     "metadata": {},
     "output_type": "execute_result"
    },
    {
     "data": {
      "image/png": "[encoded data removed]",
      "text/plain": [
       "<Figure size 432x288 with 1 Axes>"
      ]
     },
     "metadata": {
      "needs_background": "light"
     },
     "output_type": "display_data"
    }
   ],
   "source": [
    "plt.plot(auc_train)\n",
    "plt.plot(auc_val)"
   ]
  },
  {
   "cell_type": "code",
   "execution_count": 412,
   "metadata": {},
   "outputs": [
    {
     "data": {
      "text/plain": [
       "23"
      ]
     },
     "execution_count": 412,
     "metadata": {},
     "output_type": "execute_result"
    }
   ],
   "source": [
    "auc_val.index(max(auc_val))"
   ]
  },
  {
   "cell_type": "code",
   "execution_count": 410,
   "metadata": {},
   "outputs": [
    {
     "data": {
      "text/plain": [
       "16"
      ]
     },
     "execution_count": 410,
     "metadata": {},
     "output_type": "execute_result"
    }
   ],
   "source": [
    "error_val.index(min(error_val))"
   ]
  },
  {
   "cell_type": "code",
   "execution_count": 411,
   "metadata": {},
   "outputs": [],
   "source": [
    "d_forest = RandomForestClassifier(n_estimators=24)"
   ]
  },
  {
   "cell_type": "code",
   "execution_count": 390,
   "metadata": {},
   "outputs": [
    {
     "data": {
      "text/plain": [
       "RandomForestClassifier(bootstrap=True, class_weight=None, criterion='gini',\n",
       "            max_depth=None, max_features='auto', max_leaf_nodes=None,\n",
       "            min_impurity_decrease=0.0, min_impurity_split=None,\n",
       "            min_samples_leaf=1, min_samples_split=2,\n",
       "            min_weight_fraction_leaf=0.0, n_estimators=24, n_jobs=None,\n",
       "            oob_score=False, random_state=None, verbose=0,\n",
       "            warm_start=False)"
      ]
     },
     "execution_count": 390,
     "metadata": {},
     "output_type": "execute_result"
    }
   ],
   "source": [
    "d_forest.fit(X_train, y_train)"
   ]
  },
  {
   "cell_type": "code",
   "execution_count": 391,
   "metadata": {},
   "outputs": [],
   "source": [
    "y_pred_test = d_forest.predict(x_test)\n",
    "y_pred_prob_test = d_forest.predict_proba(x_test)"
   ]
  },
  {
   "cell_type": "code",
   "execution_count": 392,
   "metadata": {},
   "outputs": [
    {
     "data": {
      "text/plain": [
       "torch.Size([25000, 348])"
      ]
     },
     "execution_count": 392,
     "metadata": {},
     "output_type": "execute_result"
    }
   ],
   "source": [
    "x_test.shape"
   ]
  },
  {
   "cell_type": "code",
   "execution_count": 393,
   "metadata": {},
   "outputs": [
    {
     "data": {
      "text/plain": [
       "torch.Size([25000])"
      ]
     },
     "execution_count": 393,
     "metadata": {},
     "output_type": "execute_result"
    }
   ],
   "source": [
    "y_test.shape"
   ]
  },
  {
   "cell_type": "code",
   "execution_count": 394,
   "metadata": {},
   "outputs": [
    {
     "data": {
      "text/plain": [
       "(25000, 2)"
      ]
     },
     "execution_count": 394,
     "metadata": {},
     "output_type": "execute_result"
    }
   ],
   "source": [
    "y_pred_prob_test.shape"
   ]
  },
  {
   "cell_type": "code",
   "execution_count": 413,
   "metadata": {},
   "outputs": [
    {
     "data": {
      "image/png": "[encoded data removed]",
      "text/plain": [
       "<Figure size 1440x1440 with 1 Axes>"
      ]
     },
     "metadata": {
      "needs_background": "light"
     },
     "output_type": "display_data"
    }
   ],
   "source": [
    "plt.figure(1, figsize=(20,20))\n",
    "plt.plot([0, 1], [0, 1], 'k--')\n",
    "plt.xlabel('False positive rate')\n",
    "plt.ylabel('True positive rate')\n",
    "\n",
    "\n",
    "fpr, tpr, thresholds = metrics.roc_curve(y_test, y_pred_prob_test[:,1])\n",
    "auc = metrics.auc(fpr, tpr)\n",
    "plt.title('AUC: ' + str(round(auc,4)))\n",
    "plt.step(fpr, tpr)\n",
    "\n",
    "plt.show()"
   ]
  },
  {
   "cell_type": "code",
   "execution_count": 414,
   "metadata": {},
   "outputs": [],
   "source": [
    "fpr, tpr, thresholds = metrics.roc_curve(y_test, y_pred_prob_test[:,1])"
   ]
  },
  {
   "cell_type": "code",
   "execution_count": 415,
   "metadata": {},
   "outputs": [],
   "source": [
    "pd_eval = pd.DataFrame({'tpr':tpr,'fpr':fpr, 'threshold':thresholds})"
   ]
  },
  {
   "cell_type": "code",
   "execution_count": 416,
   "metadata": {},
   "outputs": [
    {
     "data": {
      "text/plain": [
       "0.7526"
      ]
     },
     "execution_count": 416,
     "metadata": {},
     "output_type": "execute_result"
    }
   ],
   "source": [
    "# Klassifikationsgenauigkeit\n",
    "classification_accuracy_test = 1 * (y_test.numpy() == y_pred_test).mean()\n",
    "classification_accuracy_test"
   ]
  },
  {
   "cell_type": "code",
   "execution_count": 417,
   "metadata": {},
   "outputs": [
    {
     "data": {
      "text/plain": [
       "0.2474"
      ]
     },
     "execution_count": 417,
     "metadata": {},
     "output_type": "execute_result"
    }
   ],
   "source": [
    "# Testdatensatz\n",
    "missclassification_test = 1 * (y_test.numpy() != y_pred_test).mean()\n",
    "missclassification_test"
   ]
  },
  {
   "cell_type": "markdown",
   "metadata": {},
   "source": [
    "# "
   ]
  }
 ],
 "metadata": {
  "kernelspec": {
   "display_name": "Python 3",
   "language": "python",
   "name": "python3"
  },
  "language_info": {
   "codemirror_mode": {
    "name": "ipython",
    "version": 3
   },
   "file_extension": ".py",
   "mimetype": "text/x-python",
   "name": "python",
   "nbconvert_exporter": "python",
   "pygments_lexer": "ipython3",
   "version": "3.6.8"
  }
 },
 "nbformat": 4,
 "nbformat_minor": 2
}
